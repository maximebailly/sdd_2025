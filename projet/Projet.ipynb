{
 "cells": [
  {
   "cell_type": "markdown",
   "id": "0",
   "metadata": {},
   "source": [
    "# Projet numérique de Science des Données 2025"
   ]
  },
  {
   "cell_type": "markdown",
   "id": "1",
   "metadata": {},
   "source": [
    "__Binôme numéro 12 -- BAILLY Maxime et VENDEUVRE Aude__"
   ]
  },
  {
   "cell_type": "markdown",
   "id": "2",
   "metadata": {},
   "source": [
    "## Introduction\n",
    "\n",
    "Dans ce projet, il s'agira d'étudier un jeu de données concernant des femmes diabétiques enceintes. Le diabète constitue un facteur de risque pour le bon déroulé de la grossesse. Pour chacune de ces femmes, nous disposons de 7 variables :\n",
    "* `Age` : l'âge en années\n",
    "* `Tension systolique` : la tension systolique en mmHg\n",
    "* `Tension diastolique` : la tension diastolique en mmHg\n",
    "* `Glycémie` : glycémie post-prandiale en mmol/L\n",
    "* `Température` : température en °C\n",
    "* `FC au repos` : fréquence cardiaque au repos\n",
    "* `Risque` : degré de risque obstétrique (0 : faible, 1 : moyen, 2 : élevé)\n",
    "\n",
    "\n",
    "Ce projet comporte trois parties :\n",
    "1. Une analyse exploratoire des données\n",
    "2. La construction d'un classifieur binaire permettant de séparer les femmes dont la grossesse est à risque de celles dont elle ne l'est pas\n",
    "3. La construction d'un classifieur multi-classe permettant de séparer les grossesses en trois classes : hautement à risque, moyennement à risque, faiblement à risque."
   ]
  },
  {
   "cell_type": "markdown",
   "id": "3",
   "metadata": {},
   "source": [
    "## Instructions \n",
    "* Former un binôme et l'inscrire dans Moodle.\n",
    "* Renseigner le numéro de binôme et vos noms tout en haut de ce notebook à l'emplacement indiqué.\n",
    "* Déposer ce notebook complété **au plus tard le 10 juillet 2025, 23h59** sur Moodle.\n",
    "\n",
    "La présence aux séances dédiés au mini-projet (20/06 et 7/07) est **notée**. \n",
    "\n",
    "Les questions **1 à 14** peuvent être traitées dès la première séance. \n",
    "La question **15** peut être traitée après la PC4.\n",
    "Les questions **16 à 30** peuvent être traitées à partir de la PC5.\n",
    "\n",
    "Pour des raisons pédagogiques (voir la note à ce sujet), **l'usage d'assistants de code ou d'agents conversationnels tels que ChatGPT, Copilot, Claude, LeChat est prohibé. Leur utilisation sera sanctionnée.**"
   ]
  },
  {
   "cell_type": "markdown",
   "id": "4",
   "metadata": {},
   "source": [
    "### Question 1 (1pt)\n",
    "\n",
    "Les données ont été récoltées dans une région défavorisée du monde, où les populations sont très pauvres et peuvent difficilement consulter. Quel peut être l'intérêt de déléguer à un algorithme la prédiction du risque obstétrique ? Quelles peuvent être les dérives (sociales, éthiques, économiques, psychologiques) d'une telle pratique ?"
   ]
  },
  {
   "cell_type": "markdown",
   "id": "e4d78d36-55f1-4917-83ef-f831c44cfacb",
   "metadata": {},
   "source": [
    "Déléguer cette étude à un algorithme peut permettre de pallier le manque de personnel médical sur place. Cela permet aussi de gagner en efficacité en effectuant des diagnostics simultanés, de même qu'en argent. De façon plus globale, cela permet d'offrir un diagnostic à des populations n'ayant d'ordinaire pas les moyens d'accéder à ces services coûteux.\n",
    "\n",
    "Ces bénéfices ne vont pas sans quelques inconvénients : nous pouvons imaginer qu'un tel dispositif pourrait à terme mener à une raréfaction des médecins dans des zones où l'accès à la santé est déjà précaire. Par ailleurs, le contact humain pourtant essentiel en médecine s'en voit réduit, ce qui ne va pas sans conséquences psychologiques. De plus, les compétences de l'algorithme sont certainement plus restreintes que celles d'un médecin, qui pourra éventuellement diagnostiquer un tout autre dysfonctionnement. D'un point de vue économique cette fois, il pourrait être tentant de rendre payant ce diagnostic, auprès des personnes qui le nécessitent vraiment, alors que le coût opératoire de l'algorithme est probablement faible."
   ]
  },
  {
   "cell_type": "markdown",
   "id": "6",
   "metadata": {},
   "source": [
    "## Librairies usuelles"
   ]
  },
  {
   "cell_type": "code",
   "execution_count": null,
   "id": "f36c12f7-a68e-465d-bf88-02407045b3a5",
   "metadata": {},
   "outputs": [],
   "source": [
    "import pandas as pd\n",
    "\n",
    "import numpy as np\n",
    "import matplotlib\n",
    "import matplotlib.pyplot as plt\n",
    "\n",
    "plt.rc('font', **{'size': 12}) # règle la taille de police globalement pour les plots (en pt)\n",
    "\n",
    "np.random.seed(19) "
   ]
  },
  {
   "cell_type": "markdown",
   "id": "11",
   "metadata": {},
   "source": [
    "## Chargement des données"
   ]
  },
  {
   "cell_type": "markdown",
   "id": "12",
   "metadata": {},
   "source": [
    "Nous allons pour l'instant travailler avec le jeu de données d'entraînement `data/donnees_entrainement.csv` :"
   ]
  },
  {
   "cell_type": "code",
   "execution_count": null,
   "id": "13",
   "metadata": {},
   "outputs": [
    {
     "name": "stdout",
     "output_type": "stream",
     "text": [
      "      Age  Tension systolique  Tension diastolique  Glycémie  Température  \\\n",
      "0    21.0                85.0                 55.0       7.0         36.2   \n",
      "1    36.0               145.0                100.0       6.9         39.5   \n",
      "2    15.5               120.0                 75.0       7.4         39.0   \n",
      "3    49.0               135.0                100.0      15.9         37.8   \n",
      "4    56.5               120.0                 90.0      12.0         36.9   \n",
      "..    ...                 ...                  ...       ...          ...   \n",
      "795  27.5                90.0                 55.0       7.5         37.1   \n",
      "796  32.0               115.0                 90.0       7.6         36.2   \n",
      "797  53.5               100.0                 70.0       7.7         36.2   \n",
      "798  18.5               120.0                 70.0       7.5         37.1   \n",
      "799  21.5               100.0                 90.0       6.8         37.3   \n",
      "\n",
      "     FC au repos  Risque  \n",
      "0           84.0       1  \n",
      "1           73.0       2  \n",
      "2           74.0       0  \n",
      "3           72.0       1  \n",
      "4           74.0       1  \n",
      "..           ...     ...  \n",
      "795         89.0       0  \n",
      "796         71.0       0  \n",
      "797         68.0       0  \n",
      "798         69.0       0  \n",
      "799         66.0       1  \n",
      "\n",
      "[800 rows x 7 columns]\n"
     ]
    }
   ],
   "source": [
    "df_train = pd.read_csv('data/donnees_entrainement.csv')\n",
    "print(df_train)"
   ]
  },
  {
   "cell_type": "markdown",
   "id": "14",
   "metadata": {},
   "source": [
    "Commençons par en extraire deux arrays, `X_train` et `y_train`, contenant d'une part les variables décrivant les observations et d'autre part leurs étiquettes :"
   ]
  },
  {
   "cell_type": "code",
   "execution_count": 4,
   "id": "15",
   "metadata": {},
   "outputs": [],
   "source": [
    "X_train = np.array(df_train.drop('Risque', axis=1)) #contient les valeurs des 6 variables\n",
    "y_train = np.array(df_train['Risque'], dtype='int') #contient le risque"
   ]
  },
  {
   "cell_type": "markdown",
   "id": "16",
   "metadata": {},
   "source": [
    "# 1. Exploration de données"
   ]
  },
  {
   "cell_type": "markdown",
   "id": "17",
   "metadata": {},
   "source": [
    "## Distributions des variables"
   ]
  },
  {
   "cell_type": "markdown",
   "id": "18",
   "metadata": {},
   "source": [
    "### Question 2 (1 pt)\n",
    "Pour chaque variable, affichez un histogramme de sa distribution dans chacune des trois classes."
   ]
  },
  {
   "cell_type": "code",
   "execution_count": 24,
   "id": "20",
   "metadata": {},
   "outputs": [
    {
     "data": {
      "image/png": "[encoded data removed]",
      "text/plain": [
       "<Figure size 1200x500 with 6 Axes>"
      ]
     },
     "metadata": {},
     "output_type": "display_data"
    }
   ],
   "source": [
    "fig = plt.figure(figsize=(12, 5))\n",
    "\n",
    "# Histogrammes pour les variables continues\n",
    "for i, variable in enumerate(df_train.columns[:6]):\n",
    "    # créer une sous-figure (subplot) à la position (i+1) d'une grille 3x6\n",
    "    ax = fig.add_subplot(2, 3, (i+1))\n",
    "\n",
    "    # afficher l'histogramme de variable pour Risque=0\n",
    "    h = ax.hist(df_train[df_train['Risque']==0][variable], bins=10,  \n",
    "                color='tab:grey', edgecolor='none', alpha=1, label='risque faible')\n",
    "    \n",
    "    # afficher l'histogramme de variable pour Risque=1\n",
    "    h = ax.hist(df_train[df_train['Risque']==1][variable], bins=10,  \n",
    "                color='tab:orange', edgecolor='none', alpha=0.6, label='risque moyen')\n",
    "\n",
    "    # afficher l'histogramme de variable pour Risque=2\n",
    "    h = ax.hist(df_train[df_train['Risque']==2][variable], bins=10,  \n",
    "                color='tab:red', edgecolor='none', alpha=0.6, label='risque élevé')\n",
    "    \n",
    "    # utiliser le nom de la variable comme titre pour chaque histogramme\n",
    "    ax.set_title(variable)\n",
    "\n",
    "# Légende\n",
    "plt.legend()\n",
    "\n",
    "# espacement entre les subplots\n",
    "fig.tight_layout(pad=1.0)"
   ]
  },
  {
   "cell_type": "markdown",
   "id": "21",
   "metadata": {},
   "source": [
    "### Question 3 (1 pt)\n",
    "Les valeurs prises par ces variables sont-elles surprenantes ? Cohérentes avec le degré de risque ?"
   ]
  },
  {
   "cell_type": "markdown",
   "id": "22",
   "metadata": {},
   "source": [
    "On s'attend à ce que les valeurs prises par les variables soient d'autant plus dégradées (température haute, fréquence cardiaque haute, ...) que le risque est élevée.\n",
    "\n",
    "Sur cet échantillon, on constate de façon assez intuitive que l'âge semble être corrélé positivement avec le niveau de risque. Il en va de même pour le taux de glycémie et les valeurs de tension, par exemple. Les valeurs semblent globalement cohérentes avec le niveau de risque. L'effet de la température est moins évident. La fréquence cardiaque au repos est assez largement étalée indépendamment du risque, mais on constate toutefois une recrudescence de FC élevées chez les personnes les plus à risque.\n",
    "\n",
    "Les valeurs prises par les variables semblent cohérentes avec des valeurs classiques. "
   ]
  },
  {
   "cell_type": "markdown",
   "id": "23",
   "metadata": {},
   "source": [
    "### Question 4 (1 pt)\n",
    "Pensez-vous qu'il va être facile/difficile de prédire le risque de grossesse à risque en utilisant ces 6 variables ?"
   ]
  },
  {
   "cell_type": "markdown",
   "id": "24",
   "metadata": {},
   "source": [
    "On constate que les personnes qui voient leur grossesse classée dans les risques élevés ont globalement des variables qui prennent des valeurs plus extrêmes. Les histogrammes ne nous informent que sur ce qui se passe pour la masse, et non au niveau individuel. De plus, les histogrammes pour chaque niveau de risque sont au moins en partie superposés. On pourrait dès lors rencontrer des cas qui développent une grossesse à risque, alors que toutes leurs variables pourraient être trouvées dans les distributions \"risque faible\".\n",
    "\n",
    "Il ne serait donc pas si facile de prédire le risque de grossesse à risque en utilisant ces 6 variables, et l'on pourrait chercher à rendre plus lisible l'importance de chaque variable vis-à-vis du risque réel. "
   ]
  },
  {
   "cell_type": "markdown",
   "id": "25",
   "metadata": {},
   "source": [
    "## Réduction de dimension"
   ]
  },
  {
   "cell_type": "markdown",
   "id": "26",
   "metadata": {},
   "source": [
    "Indépendamment de votre réponse à la question précédente, nous allons procéder à deux tentatives de réduction de dimension."
   ]
  },
  {
   "cell_type": "markdown",
   "id": "27",
   "metadata": {},
   "source": [
    "### Question 5 (1 pt)\n",
    "Utilisez la décomposition en composantes principales de `X_train` pour visualiser les données en deux dimensions."
   ]
  },
  {
   "cell_type": "code",
   "execution_count": null,
   "id": "28",
   "metadata": {},
   "outputs": [],
   "source": []
  },
  {
   "cell_type": "markdown",
   "id": "29",
   "metadata": {},
   "source": [
    "### Question 6 (1 pt) \n",
    "Pensez-vous utile d'utiliser cette ACP pour réduire la dimension des données pour construire un prédicteur de risque de grossesse difficile ?"
   ]
  },
  {
   "cell_type": "markdown",
   "id": "30",
   "metadata": {},
   "source": []
  },
  {
   "cell_type": "markdown",
   "id": "32",
   "metadata": {},
   "source": [
    "### Question 7 (0,5 pt)\n",
    "Affichez la matrice de corrélation entre les variables (étiquette exclue)"
   ]
  },
  {
   "cell_type": "code",
   "execution_count": 26,
   "id": "34",
   "metadata": {},
   "outputs": [
    {
     "data": {
      "text/plain": [
       "Text(0.5, 1.0, 'Corrélation entre les différentes variables médicales')"
      ]
     },
     "execution_count": 26,
     "metadata": {},
     "output_type": "execute_result"
    },
    {
     "data": {
      "image/png": "[encoded data removed]",
      "text/plain": [
       "<Figure size 500x400 with 2 Axes>"
      ]
     },
     "metadata": {},
     "output_type": "display_data"
    }
   ],
   "source": [
    "import seaborn as sns\n",
    "\n",
    "\n",
    "# Calcul de la matrice de corrélation deux à deux\n",
    "corr_matrix = df_train.drop(columns='Risque').corr()\n",
    "\n",
    "# Initialisation figure\n",
    "plt.figure(figsize=(5, 4))\n",
    "\n",
    "# Affichage heatmap\n",
    "sns.heatmap(corr_matrix, \n",
    "            vmin=-1, # borne inf des valeurs à afficher\n",
    "            vmax=1, # borne sup des valeurs à afficher\n",
    "            center= 0, # valeur médiane des valeurs à afficher,\n",
    "            cmap='PuOr', # colormap divergente de violet (PUrple) vers orange (ORange)\n",
    "           )\n",
    "# Titre\n",
    "plt.title(\"Corrélation entre les différentes variables médicales\")"
   ]
  },
  {
   "cell_type": "markdown",
   "id": "35",
   "metadata": {},
   "source": [
    "### Question 8 (0,5 pt)\n",
    "\n",
    "Comment utiliser cette matrice de corrélation pour réduire la dimension des données ?"
   ]
  },
  {
   "cell_type": "markdown",
   "id": "36",
   "metadata": {},
   "source": []
  },
  {
   "cell_type": "markdown",
   "id": "37",
   "metadata": {},
   "source": [
    "# 2. Classification «à risque» vs «sans risque»"
   ]
  },
  {
   "cell_type": "markdown",
   "id": "38",
   "metadata": {},
   "source": [
    "Nous allons maintenant transformer les étiquettes en étiquettes binaire, en regroupant les risques obstétriques moyens et élevés. Les étiquettes `1` et `2` seront regroupées en une seule étiquette `1`."
   ]
  },
  {
   "cell_type": "code",
   "execution_count": null,
   "id": "39",
   "metadata": {},
   "outputs": [],
   "source": [
    "# Copier le dataframe initial dans un nouveau dataframe \n",
    "df_train_risk_vs_norisk = df_train.copy()\n",
    "\n",
    "# Regrouper les étiquettes 1 et 2\n",
    "df_train_risk_vs_norisk['Risque'] = np.where(df_train['Risque']==2, 1, df_train['Risque'])\n",
    "\n",
    "# Extraction de l'array d'étiquettes\n",
    "y_train_risk_vs_norisk = np.array(df_train_risk_vs_norisk['Risque'], dtype='int')"
   ]
  },
  {
   "cell_type": "markdown",
   "id": "40",
   "metadata": {},
   "source": [
    "## Choix du critère d'évaluation\n",
    "Pour cette section, on pourra se référer à la section 8.7.1 du poly."
   ]
  },
  {
   "cell_type": "markdown",
   "id": "41",
   "metadata": {},
   "source": [
    "### Question 9 (0,25 pt)\n",
    "Quelle serait l'_accuracy_ (proportion d'observations correctement étiquetées) d'un modèle qui prédit que toutes les observations appartiennent à la classe majoritaire (c'est-à-dire la classe ayant le plus grand nombre d'observations dans les données) ? "
   ]
  },
  {
   "cell_type": "code",
   "execution_count": null,
   "id": "42",
   "metadata": {},
   "outputs": [],
   "source": []
  },
  {
   "cell_type": "markdown",
   "id": "44",
   "metadata": {},
   "source": [
    "### Question 10 (0,25 pt) \n",
    "La __précision équilibrée__ (_balanced accuracy_) d'un classifieur binaire est donnée par :\n",
    "\n",
    "$$BA = \\frac12 \\left( \\frac{\\text{TP}}{\\text{TP}+\\text{FN}} +  \\frac{\\text{TN}}{\\text{TN}+\\text{FP}} \\right)$$\n",
    "\n",
    "Expliquez pourquoi ce critère d'évaluation est plus pertinent que l'accuracy pour sélectionner un classifieur optimal."
   ]
  },
  {
   "cell_type": "markdown",
   "id": "45",
   "metadata": {},
   "source": []
  },
  {
   "cell_type": "markdown",
   "id": "46",
   "metadata": {},
   "source": [
    "Dans la suite du projet, nous utiliserons ce critère, implémenté dans la méthode [metrics.balanced_accuracy_score](https://scikit-learn.org/stable/modules/generated/sklearn.metrics.balanced_accuracy_score.html) de scikit-learn."
   ]
  },
  {
   "cell_type": "markdown",
   "id": "47",
   "metadata": {},
   "source": [
    "## Plus proche voisin\n",
    "L'algorithme du plus proche voisin associe à une observation $\\vec{x}$ l’étiquette du point du jeu d’entraînement dont elle est la plus proche (par défaut, en distance euclidienne)."
   ]
  },
  {
   "cell_type": "markdown",
   "id": "48",
   "metadata": {},
   "source": [
    "### Question 11 (0,5 pt)\n",
    "En quoi consiste la phase d'entraînement d'un tel classifieur ?"
   ]
  },
  {
   "cell_type": "markdown",
   "id": "49",
   "metadata": {},
   "source": []
  },
  {
   "cell_type": "markdown",
   "id": "50",
   "metadata": {},
   "source": [
    "### Question 12 (0,5 pt)\n",
    "Quelle précision équilibrée attendez-vous _sur le jeu d'entraînement_ d'un algorithme du plus proche voisin ? Pourquoi ?"
   ]
  },
  {
   "cell_type": "markdown",
   "id": "51",
   "metadata": {},
   "source": []
  },
  {
   "cell_type": "markdown",
   "id": "52",
   "metadata": {},
   "source": [
    "### Question 13 (0,5 pt)\n",
    "Vérifiez votre réponse sur les données, en utilisant la classe [neighbors.KNeighborsClassifier](https://scikit-learn.org/stable/modules/generated/sklearn.neighbors.KNeighborsClassifier.html)."
   ]
  },
  {
   "cell_type": "code",
   "execution_count": null,
   "id": "53",
   "metadata": {},
   "outputs": [],
   "source": []
  },
  {
   "cell_type": "markdown",
   "id": "55",
   "metadata": {},
   "source": [
    "### Quesion 14 (0,5 pt)\n",
    "Pour cet algorithme, vaut-il mieux utiliser les données d'origine ou les données centrées-réduites ? Justifiez votre réponse."
   ]
  },
  {
   "cell_type": "markdown",
   "id": "56",
   "metadata": {},
   "source": []
  },
  {
   "cell_type": "markdown",
   "id": "57",
   "metadata": {},
   "source": [
    "## K plus proches voisins\n",
    "L'algorithme des $K$ plus proche voisins associe à une observation $\\vec{x}$ l’étiquette qui est majoritaires parmi celle des $K$ points du jeu d’entraînement dont elle est la plus proche (par défaut, en distance euclidienne)."
   ]
  },
  {
   "cell_type": "markdown",
   "id": "58",
   "metadata": {},
   "source": [
    "### Question 15 (1,5 pt)\n",
    "Utilisez une recherche sur grille avec une validation croisée en 10 _folds_ (voir amphi 7 et PC5) pour déterminer une valeur optimale de $K$. \n",
    "\n",
    "* Justifiez votre choix de grille de valeurs.\n",
    "* Illustrez par un graphique approprié votre exploration de cette grille.\n",
    "* Commentez ce graphique.\n",
    "* Reportez la valeur optimale de l'hyperparamètre et la précision équilibrée correspondante."
   ]
  },
  {
   "cell_type": "code",
   "execution_count": null,
   "id": "60",
   "metadata": {},
   "outputs": [],
   "source": []
  },
  {
   "cell_type": "markdown",
   "id": "62",
   "metadata": {},
   "source": [
    "## Régression logistique\n",
    "Le pendant pour la classification binaire de la régression linéaire (amphi 7 et PC 5) est la __régression logistique__ (PC 6). Dans scikit-learn, elle est implémentée par la classe [linear_model.LogisticRegression](https://scikit-learn.org/stable/modules/generated/sklearn.linear_model.LogisticRegression.html)."
   ]
  },
  {
   "cell_type": "markdown",
   "id": "63",
   "metadata": {},
   "source": [
    "### Question 16 (1 pt) \n",
    "Utilisez une recherche sur grille avec une validation croisée en 10 _folds_ pour déterminer une valeur optimale du coefficient de régularisation d'une régression logistique. \n",
    "\n",
    "* Justifiez votre choix de type de régularisation et de grille de valeurs. \n",
    "* Illustrez par un graphique approprié votre exploration de cette grille. \n",
    "* Commentez ce graphique.\n",
    "* Reportez la valeur optimale de l'hyperparamètre et la précision équilibrée correspondante."
   ]
  },
  {
   "cell_type": "code",
   "execution_count": null,
   "id": "64",
   "metadata": {},
   "outputs": [],
   "source": []
  },
  {
   "cell_type": "markdown",
   "id": "66",
   "metadata": {},
   "source": [
    "## Algorithme non-linéaire"
   ]
  },
  {
   "cell_type": "markdown",
   "id": "67",
   "metadata": {},
   "source": [
    "### Question 17 (2pt)\n",
    "Choisissez maintenant un algorithme permettant d'apprendre un modèle non-linéaire parmi ceux du chapitre 9 :\n",
    "* arbre de décision : [tree.DecisionTreeClassifier](https://scikit-learn.org/stable/modules/generated/sklearn.tree.DecisionTreeClassifier.html)\n",
    "* forêt aléatoire : [ensemble.RandomForestClassifier](https://scikit-learn.org/stable/modules/generated/sklearn.ensemble.RandomForestClassifier.html)\n",
    "* machine à vecteur de support à noyau : [svm.SVC](https://scikit-learn.org/stable/modules/generated/sklearn.svm.SVC.html)\n",
    "* perceptron multi-couche : [neural_network.MLPClassifier](https://scikit-learn.org/stable/modules/generated/sklearn.neural_network.MLPClassifier.html)\n",
    "\n",
    "Utilisez encore une fois une recherche sur grille avec une validation croisée en 10 _folds_ pour sélectionner le(s) hyperparamètre(s) le(s) plus pertinent(s).\n",
    "\n",
    "* Justifiez votre choix d'hyperparamètre(s) à optimiser.\n",
    "* Justifiez votre choix de grille de valeurs pour ces ou cet hyperparèmtre(s).\n",
    "* Illustrez par un graphique approprié votre exploration de cette grille.\n",
    "* Commentez ce graphique.\n",
    "* Reportez la ou les valeur(s) optimale(s) d'hyperparamètre(s) et la précision équilibrée correspondante."
   ]
  },
  {
   "cell_type": "code",
   "execution_count": null,
   "id": "69",
   "metadata": {},
   "outputs": [],
   "source": []
  },
  {
   "cell_type": "markdown",
   "id": "76",
   "metadata": {},
   "source": [
    "## Classification après réduction de dimension\n",
    "\n",
    "Nous allons maintenant évaluer l'impact d'une réduction de dimension sur la qualité de l'apprentissage."
   ]
  },
  {
   "cell_type": "markdown",
   "id": "77",
   "metadata": {},
   "source": [
    "### Question 18 (0,25 pt)\n",
    "Quel algorithme (k plus proches voisins ; régression logistique ; algorithme non-linéaire de la question 16) vous a permis d'obtenir la meilleure performance ? "
   ]
  },
  {
   "cell_type": "code",
   "execution_count": null,
   "id": "78",
   "metadata": {},
   "outputs": [],
   "source": []
  },
  {
   "cell_type": "markdown",
   "id": "79",
   "metadata": {},
   "source": [
    "### Quesion 19 (0,25 pt)\n",
    "Utilisez le travail des questions 4 à 7 pour créer une nouvelle matrice représentant les données dans moins de dimensions qu'originellement. "
   ]
  },
  {
   "cell_type": "code",
   "execution_count": null,
   "id": "81",
   "metadata": {},
   "outputs": [],
   "source": []
  },
  {
   "cell_type": "markdown",
   "id": "82",
   "metadata": {},
   "source": [
    "### Question 20 (0,25 pt)\n",
    "Utilisez encore une fois une recherche sur grille pour optimiser les performances de cet algorithme, mais entrainé sur cette nouvelle matrice. "
   ]
  },
  {
   "cell_type": "code",
   "execution_count": null,
   "id": "83",
   "metadata": {},
   "outputs": [],
   "source": []
  },
  {
   "cell_type": "markdown",
   "id": "84",
   "metadata": {},
   "source": [
    "### Question 21 (0,25 pt)\n",
    "La réduction de dimension a-t-elle été utile ? Commentez."
   ]
  },
  {
   "cell_type": "markdown",
   "id": "85",
   "metadata": {},
   "source": []
  },
  {
   "cell_type": "markdown",
   "id": "86",
   "metadata": {},
   "source": [
    "## Classifieur final"
   ]
  },
  {
   "cell_type": "markdown",
   "id": "87",
   "metadata": {},
   "source": [
    "### Question 22 (0,25 pt)\n",
    "Au vu des performances observées jusqu'à présent, quel est l'algorithme d'apprentissage, son ou ses valeurs d'hyperparamètres, la transformation des données qui permettent d'obtenir la meilleure performance ? \n",
    "\n",
    "Utilisez cet algorithme pour entraîner un modèle de classification final `final_binary_classifier` sur l'ensemble du jeu d'entraînement."
   ]
  },
  {
   "cell_type": "code",
   "execution_count": null,
   "id": "88",
   "metadata": {},
   "outputs": [],
   "source": []
  },
  {
   "cell_type": "markdown",
   "id": "89",
   "metadata": {},
   "source": [
    "### Question 23 (0,25 pt)\n",
    "\n",
    "Chargez les données du jeu de test `data/donnees_reservees.csv`. Combinez les étiquettes 1 et 2 en une seule classe. "
   ]
  },
  {
   "cell_type": "code",
   "execution_count": null,
   "id": "90",
   "metadata": {},
   "outputs": [],
   "source": []
  },
  {
   "cell_type": "markdown",
   "id": "91",
   "metadata": {},
   "source": [
    "### Question 24 (0,25 pt)\n",
    "\n",
    "Utilisez `final_binary_classifier` pour prédire les étiquettes des observations de ce jeu de données. (N'oubliez pas d'appliquer d'éventuelles transformation des données.) "
   ]
  },
  {
   "cell_type": "code",
   "execution_count": null,
   "id": "92",
   "metadata": {},
   "outputs": [],
   "source": []
  },
  {
   "cell_type": "markdown",
   "id": "93",
   "metadata": {},
   "source": [
    "### Question 25 (0,5 pt)\n",
    "Comparez la précision équilibrée sur le jeu de test à celle obtenue en validation croisée lors de la sélection de modèle. Commentez."
   ]
  },
  {
   "cell_type": "code",
   "execution_count": null,
   "id": "94",
   "metadata": {},
   "outputs": [],
   "source": []
  },
  {
   "cell_type": "markdown",
   "id": "96",
   "metadata": {},
   "source": [
    "### Question 26 (0,25 pt)\n",
    "Utilisez [metrics.ConfusionMatrixDisplay](https://scikit-learn.org/stable/modules/generated/sklearn.metrics.ConfusionMatrixDisplay.html) pour afficher la matrice de confusion de ces prédictions."
   ]
  },
  {
   "cell_type": "code",
   "execution_count": null,
   "id": "97",
   "metadata": {},
   "outputs": [],
   "source": []
  },
  {
   "cell_type": "markdown",
   "id": "98",
   "metadata": {},
   "source": [
    "### Question 27 (0,5 pt)\n",
    "Commentez cette matrice de précision.\n",
    "\n",
    "Considéreriez vous possible d'utilise ce classifieur pour décider, sur la base de ces quelques mesures faciles à obtenir en autonomie, quelles femmes référer pour un suivi médical attentif de leur grossesse ?"
   ]
  },
  {
   "cell_type": "markdown",
   "id": "99",
   "metadata": {},
   "source": []
  },
  {
   "cell_type": "markdown",
   "id": "100",
   "metadata": {},
   "source": [
    "# 3. Classification multi-classe"
   ]
  },
  {
   "cell_type": "markdown",
   "id": "101",
   "metadata": {},
   "source": [
    "### Question 28 (0,5 pt)\n",
    "Parmi les algorithmes d'apprentissage supervisé que vous avez utilisé dans la section 2, le(s)quel(s) se prête(nt) directement à entraîner un classifieur multiclasse ?"
   ]
  },
  {
   "cell_type": "markdown",
   "id": "102",
   "metadata": {},
   "source": []
  },
  {
   "cell_type": "markdown",
   "id": "103",
   "metadata": {},
   "source": [
    "### Question 29 (1,5 pt)\n",
    "Choisissez un des algorithmes mentionnés à la question précédente et entraînez-le sur le problème de classification multi-classe consistant à prédire le niveau (0, 1 ou 2) de risque obstétrique. Optimisez le ou les hyperparamètre(s) le(s) plus pertinent(s)."
   ]
  },
  {
   "cell_type": "code",
   "execution_count": null,
   "id": "104",
   "metadata": {},
   "outputs": [],
   "source": []
  },
  {
   "cell_type": "markdown",
   "id": "106",
   "metadata": {},
   "source": [
    "### Question 30 (1pt)\n",
    "Utilisez cet algorithme pour entraîner un modèle multi-classe final sur l'ensemble des données d'entraînement. Évaluez ce modèle sur les données de test. Commentez."
   ]
  },
  {
   "cell_type": "code",
   "execution_count": null,
   "id": "107",
   "metadata": {},
   "outputs": [],
   "source": []
  }
 ],
 "metadata": {
  "kernelspec": {
   "display_name": "base",
   "language": "python",
   "name": "python3"
  },
  "language_info": {
   "codemirror_mode": {
    "name": "ipython",
    "version": 3
   },
   "file_extension": ".py",
   "mimetype": "text/x-python",
   "name": "python",
   "nbconvert_exporter": "python",
   "pygments_lexer": "ipython3",
   "version": "3.13.2"
  }
 },
 "nbformat": 4,
 "nbformat_minor": 5
}
